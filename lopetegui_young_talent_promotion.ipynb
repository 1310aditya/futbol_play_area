{
 "cells": [
  {
   "cell_type": "markdown",
   "metadata": {},
   "source": [
    "## Julen Lopetegui as Spain Coach\n",
    "\n",
    "Here we will visualize the impact that Julen Lopetegui has had on Spanish football in terms of young talent and it's promotion. \n",
    "\n",
    "Beautifulsoup package has been used for parsing web pages. [1]\n",
    "\n",
    "**Note:** Year column is the start of the season. So, Year 2016 is 16-17 season. "
   ]
  },
  {
   "cell_type": "code",
   "execution_count": 104,
   "metadata": {
    "collapsed": true
   },
   "outputs": [],
   "source": [
    "import requests # HTTP requests library\n",
    "from bs4 import BeautifulSoup # for parsing html pages.\n",
    "import pandas as pd\n",
    "from matplotlib import pyplot as plt\n",
    "from matplotlib.ticker import ScalarFormatter, FormatStrFormatter\n",
    "# In a notebook environment, display the plots inline\n",
    "%matplotlib inline\n",
    "import re"
   ]
  },
  {
   "cell_type": "markdown",
   "metadata": {},
   "source": [
    " Setting parameters for matplotlib [3]:"
   ]
  },
  {
   "cell_type": "code",
   "execution_count": 111,
   "metadata": {},
   "outputs": [],
   "source": [
    "import matplotlib\n",
    "# Plot size to 14\" x 7\"\n",
    "matplotlib.rc('figure', figsize = (14, 7))\n",
    "# Font size to 14\n",
    "matplotlib.rc('font', size = 14)\n",
    "# Do not display top and right frame lines\n",
    "matplotlib.rc('axes.spines', top = False, right = False)\n",
    "# Remove grid lines\n",
    "matplotlib.rc('axes', grid = False)\n",
    "# Set backgound color to white\n",
    "matplotlib.rc('axes', facecolor = 'white')\n",
    "\n",
    "SMALL_SIZE = 8\n",
    "MEDIUM_SIZE = 12\n",
    "BIGGER_SIZE = 14\n",
    "\n",
    "matplotlib.rc('font', size=SMALL_SIZE)          # controls default text sizes\n",
    "matplotlib.rc('axes', titlesize=SMALL_SIZE)     # fontsize of the axes title\n",
    "matplotlib.rc('axes', labelsize=MEDIUM_SIZE)    # fontsize of the x and y labels\n",
    "matplotlib.rc('xtick', labelsize=SMALL_SIZE)    # fontsize of the tick labels\n",
    "matplotlib.rc('ytick', labelsize=SMALL_SIZE)    # fontsize of the tick labels\n",
    "matplotlib.rc('legend', fontsize=SMALL_SIZE)    # legend fontsize\n",
    "matplotlib.rc('figure', titlesize=BIGGER_SIZE)  # fontsize of the figure title"
   ]
  },
  {
   "cell_type": "markdown",
   "metadata": {},
   "source": [
    "# Data Scraping"
   ]
  },
  {
   "cell_type": "code",
   "execution_count": 5,
   "metadata": {
    "collapsed": true
   },
   "outputs": [],
   "source": [
    "def get_team_data_per_year(year):\n",
    "    url = \"https://www.transfermarkt.co.uk/spain/leistungsdaten/verein/3375/plus/0?reldata=%26{}\".format(year)\n",
    "    pageTree = requests.get(url, headers={'User-Agent': 'Mozilla/5.0'})\n",
    "    pageSoup = BeautifulSoup(pageTree.content, 'html5lib')\n",
    "    players = pageSoup.find_all(\"span\", {\"class\": \"hide-for-small\"})\n",
    "    minutes_played = pageSoup.find_all(\"td\", {\"class\": \"rechts \"})\n",
    "    tableItems = pageSoup.find_all(\"td\", {\"class\": \"zentriert\"})\n",
    "    ages = tableItems[1::6]\n",
    "    players_list = []\n",
    "    ages_list = []\n",
    "    minutes_played_list = []\n",
    "    i = 1\n",
    "    j = 0\n",
    "    try:\n",
    "        while True:\n",
    "            players_list.append(players[i].a.text)\n",
    "            ages_list.append(ages[j].text)\n",
    "            minutes_played_list.append(minutes_played[j].text)\n",
    "            i += 1\n",
    "            j += 1\n",
    "    except:\n",
    "        print(\"Page Parsed - {}\".format(year))    \n",
    "\n",
    "    df = pd.DataFrame({\"Player\":players_list, \n",
    "                       \"Debut Age\":ages_list, \n",
    "                       \"{}\".format(year):minutes_played_list}, \n",
    "                      columns=(\"Player\",\"Debut Age\",\"{}\".format(year)))\n",
    "    df.set_index(\"Player\", inplace=True)\n",
    "    return df"
   ]
  },
  {
   "cell_type": "code",
   "execution_count": 6,
   "metadata": {
    "collapsed": true
   },
   "outputs": [],
   "source": [
    "def get_all_data_given_range(func, year_start, year_end):\n",
    "    df = func(year_start)\n",
    "    for year in range(year_start+1, year_end+1):\n",
    "        df = pd.merge(df, func(year), left_index=True, right_index=True, how='outer', on='Age')\n",
    "    return df"
   ]
  },
  {
   "cell_type": "code",
   "execution_count": 37,
   "metadata": {},
   "outputs": [
    {
     "name": "stdout",
     "output_type": "stream",
     "text": [
      "Page Parsed.\n",
      "Page Parsed.\n",
      "Page Parsed.\n",
      "Page Parsed.\n",
      "Page Parsed.\n",
      "Page Parsed.\n",
      "Page Parsed.\n",
      "Page Parsed.\n",
      "Page Parsed.\n",
      "Page Parsed.\n",
      "Page Parsed.\n",
      "Page Parsed.\n",
      "Page Parsed.\n",
      "Page Parsed.\n",
      "Page Parsed.\n",
      "Page Parsed.\n",
      "Page Parsed.\n",
      "Page Parsed.\n",
      "Page Parsed.\n",
      "Page Parsed.\n",
      "Page Parsed.\n",
      "Page Parsed.\n",
      "Page Parsed.\n",
      "Page Parsed.\n",
      "Page Parsed.\n",
      "Page Parsed.\n",
      "Page Parsed.\n",
      "Page Parsed.\n",
      "Page Parsed.\n",
      "Page Parsed.\n",
      "Page Parsed.\n",
      "Page Parsed.\n",
      "Page Parsed.\n",
      "Page Parsed.\n",
      "Page Parsed.\n",
      "Page Parsed.\n",
      "Page Parsed.\n",
      "Page Parsed.\n",
      "Page Parsed.\n",
      "Page Parsed.\n",
      "Page Parsed.\n",
      "Page Parsed.\n",
      "Page Parsed.\n",
      "Page Parsed.\n",
      "Page Parsed.\n",
      "Page Parsed.\n",
      "Page Parsed.\n",
      "Page Parsed.\n",
      "Page Parsed.\n",
      "Page Parsed.\n",
      "Page Parsed.\n",
      "Page Parsed.\n",
      "Page Parsed.\n",
      "Page Parsed.\n",
      "Page Parsed.\n",
      "Page Parsed.\n",
      "Page Parsed.\n",
      "Page Parsed.\n",
      "Page Parsed.\n",
      "Page Parsed.\n",
      "Page Parsed.\n",
      "Page Parsed.\n",
      "Page Parsed.\n",
      "Page Parsed.\n",
      "Page Parsed.\n",
      "Page Parsed.\n",
      "Page Parsed.\n",
      "Page Parsed.\n",
      "Page Parsed.\n",
      "Page Parsed.\n",
      "Page Parsed.\n",
      "Page Parsed.\n",
      "Page Parsed.\n",
      "Page Parsed.\n",
      "Page Parsed.\n",
      "Page Parsed.\n",
      "Page Parsed.\n",
      "Page Parsed.\n",
      "Page Parsed.\n",
      "Page Parsed.\n",
      "Page Parsed.\n",
      "Page Parsed.\n",
      "Page Parsed.\n",
      "Page Parsed.\n",
      "Page Parsed.\n",
      "Page Parsed.\n",
      "Page Parsed.\n",
      "Page Parsed.\n",
      "Page Parsed.\n",
      "Page Parsed.\n",
      "Page Parsed.\n",
      "Page Parsed.\n",
      "Page Parsed.\n",
      "Page Parsed.\n",
      "Page Parsed.\n",
      "Page Parsed.\n",
      "Page Parsed.\n",
      "Page Parsed.\n"
     ]
    }
   ],
   "source": [
    "all_data = get_all_data_given_range(get_team_data_per_year, 1920, 2017)"
   ]
  },
  {
   "cell_type": "code",
   "execution_count": 61,
   "metadata": {},
   "outputs": [],
   "source": [
    "# Considering only the players who have played a single minute of the game.\n",
    "def get_average_minutes_played_under_age(player_age, year):\n",
    "    url = \"https://www.transfermarkt.co.uk/spain/leistungsdaten/verein/3375/plus/0?reldata=%26{}\".format(year)\n",
    "    pageTree = requests.get(url, headers={'User-Agent': 'Mozilla/5.0'})\n",
    "    pageSoup = BeautifulSoup(pageTree.content, 'html5lib')\n",
    "    players = pageSoup.find_all(\"span\", {\"class\": \"hide-for-small\"})\n",
    "    minutes_played = pageSoup.find_all(\"td\", {\"class\": \"rechts \"})\n",
    "    tableItems = pageSoup.find_all(\"td\", {\"class\": \"zentriert\"})\n",
    "    ages = tableItems[1::6]\n",
    "    players_list = []\n",
    "    ages_list = []\n",
    "    minutes_played_list = []\n",
    "    i = 1\n",
    "    j = 0\n",
    "    try:\n",
    "        while True:\n",
    "            players_list.append(players[i].a.text)\n",
    "            try:\n",
    "                ages_list.append(int(ages[j].text))\n",
    "            except:\n",
    "                ages_list.append(int(re.sub(\"\\D\", \"\", ages[j].text)))\n",
    "            if minutes_played[j].text != '-':\n",
    "                minutes_played_list.append(int(minutes_played[j].text[:-1].replace(\".\",\"\")))\n",
    "            else:\n",
    "                minutes_played_list.append(0)\n",
    "            #minutes_played_list.append(int(minutes_played[j].text.replace(\"'\",\"\")))\n",
    "            i += 1\n",
    "            j += 1\n",
    "    except:\n",
    "        print(\"Page Parsed - {}\".format(year)) \n",
    "    #print(ages_list)\n",
    "    #print(minutes_played_list)\n",
    "    \n",
    "    total_mins = 0\n",
    "    total_players = 0    \n",
    "    for i, player in enumerate(players_list):\n",
    "        if minutes_played_list[i] > 0 and ages_list[i] < player_age:\n",
    "            #print(player, ages_list[i], minutes_played_list[i])\n",
    "            total_mins += minutes_played_list[i]\n",
    "            total_players += 1\n",
    "    try: \n",
    "        return total_mins/total_players \n",
    "    except: \n",
    "        return 0"
   ]
  },
  {
   "cell_type": "code",
   "execution_count": 62,
   "metadata": {},
   "outputs": [
    {
     "name": "stdout",
     "output_type": "stream",
     "text": [
      "Page Parsed - 1920\n",
      "Page Parsed - 1921\n",
      "Page Parsed - 1922\n",
      "Page Parsed - 1923\n",
      "Page Parsed - 1924\n",
      "Page Parsed - 1925\n",
      "Page Parsed - 1926\n",
      "Page Parsed - 1927\n",
      "Page Parsed - 1928\n",
      "Page Parsed - 1929\n",
      "Page Parsed - 1930\n",
      "Page Parsed - 1931\n",
      "Page Parsed - 1932\n",
      "Page Parsed - 1933\n",
      "Page Parsed - 1934\n",
      "Page Parsed - 1935\n",
      "Page Parsed - 1936\n",
      "Page Parsed - 1937\n",
      "Page Parsed - 1938\n",
      "Page Parsed - 1939\n",
      "Page Parsed - 1940\n",
      "Page Parsed - 1941\n",
      "Page Parsed - 1942\n",
      "Page Parsed - 1943\n",
      "Page Parsed - 1944\n",
      "Page Parsed - 1945\n",
      "Page Parsed - 1946\n",
      "Page Parsed - 1947\n",
      "Page Parsed - 1948\n",
      "Page Parsed - 1949\n",
      "Page Parsed - 1950\n",
      "Page Parsed - 1951\n",
      "Page Parsed - 1952\n",
      "Page Parsed - 1953\n",
      "Page Parsed - 1954\n",
      "Page Parsed - 1955\n",
      "Page Parsed - 1956\n",
      "Page Parsed - 1957\n",
      "Page Parsed - 1958\n",
      "Page Parsed - 1959\n",
      "Page Parsed - 1960\n",
      "Page Parsed - 1961\n",
      "Page Parsed - 1962\n",
      "Page Parsed - 1963\n",
      "Page Parsed - 1964\n",
      "Page Parsed - 1965\n",
      "Page Parsed - 1966\n",
      "Page Parsed - 1967\n",
      "Page Parsed - 1968\n",
      "Page Parsed - 1969\n",
      "Page Parsed - 1970\n",
      "Page Parsed - 1971\n",
      "Page Parsed - 1972\n",
      "Page Parsed - 1973\n",
      "Page Parsed - 1974\n",
      "Page Parsed - 1975\n",
      "Page Parsed - 1976\n",
      "Page Parsed - 1977\n",
      "Page Parsed - 1978\n",
      "Page Parsed - 1979\n",
      "Page Parsed - 1980\n",
      "Page Parsed - 1981\n",
      "Page Parsed - 1982\n",
      "Page Parsed - 1983\n",
      "Page Parsed - 1984\n",
      "Page Parsed - 1985\n",
      "Page Parsed - 1986\n",
      "Page Parsed - 1987\n",
      "Page Parsed - 1988\n",
      "Page Parsed - 1989\n",
      "Page Parsed - 1990\n",
      "Page Parsed - 1991\n",
      "Page Parsed - 1992\n",
      "Page Parsed - 1993\n",
      "Page Parsed - 1994\n",
      "Page Parsed - 1995\n",
      "Page Parsed - 1996\n",
      "Page Parsed - 1997\n",
      "Page Parsed - 1998\n",
      "Page Parsed - 1999\n",
      "Page Parsed - 2000\n",
      "Page Parsed - 2001\n",
      "Page Parsed - 2002\n",
      "Page Parsed - 2003\n",
      "Page Parsed - 2004\n",
      "Page Parsed - 2005\n",
      "Page Parsed - 2006\n",
      "Page Parsed - 2007\n",
      "Page Parsed - 2008\n",
      "Page Parsed - 2009\n",
      "Page Parsed - 2010\n",
      "Page Parsed - 2011\n",
      "Page Parsed - 2012\n",
      "Page Parsed - 2013\n",
      "Page Parsed - 2014\n",
      "Page Parsed - 2015\n",
      "Page Parsed - 2016\n",
      "Page Parsed - 2017\n"
     ]
    }
   ],
   "source": [
    "years = []\n",
    "avgs = []\n",
    "for year in range(1920,2018):\n",
    "    years.append(year)\n",
    "    avgs.append(get_average_minutes_played_under_age(25, year))"
   ]
  },
  {
   "cell_type": "code",
   "execution_count": 112,
   "metadata": {
    "collapsed": true
   },
   "outputs": [],
   "source": [
    "def lineplot(x, y, xlabel, ylabel, title):\n",
    "    _, ax = plt.subplots()\n",
    "    ax.plot(x, y, lw = 1.5, color = 'blue', alpha = 1)\n",
    "    ax.set_title(title)\n",
    "    ax.set_xlabel(xlabel)\n",
    "    ax.set_ylabel(ylabel)\n",
    "    ax.xaxis.set_major_formatter(FormatStrFormatter('%.0f'))"
   ]
  },
  {
   "cell_type": "markdown",
   "metadata": {},
   "source": [
    "## Visualizing minutes (on an average) by Spanish under 25 players, over the years."
   ]
  },
  {
   "cell_type": "code",
   "execution_count": 113,
   "metadata": {},
   "outputs": [
    {
     "data": {
      "image/png": "[encoded data removed]",
      "text/plain": [
       "<matplotlib.figure.Figure at 0x111ec5240>"
      ]
     },
     "metadata": {},
     "output_type": "display_data"
    }
   ],
   "source": [
    "lineplot(years, avgs, \"Years\", \"Average Minutes Played\", \"Average Minutes played (Age < 25)\")"
   ]
  },
  {
   "cell_type": "markdown",
   "metadata": {},
   "source": [
    "## Focusing only on the team which played in the last 20 years."
   ]
  },
  {
   "cell_type": "code",
   "execution_count": 102,
   "metadata": {},
   "outputs": [
    {
     "data": {
      "image/png": "[encoded data removed]",
      "text/plain": [
       "<matplotlib.figure.Figure at 0x11299deb8>"
      ]
     },
     "metadata": {},
     "output_type": "display_data"
    }
   ],
   "source": [
    "lineplot(years[-19:], avgs[-19:], \"Years\", \"Average Minutes Played\", \"Average Minutes played (Age < 25)\")"
   ]
  },
  {
   "cell_type": "code",
   "execution_count": 90,
   "metadata": {},
   "outputs": [
    {
     "ename": "NameError",
     "evalue": "name 'all_data' is not defined",
     "output_type": "error",
     "traceback": [
      "\u001b[0;31m---------------------------------------------------------------------------\u001b[0m",
      "\u001b[0;31mNameError\u001b[0m                                 Traceback (most recent call last)",
      "\u001b[0;32m<ipython-input-90-f8fe4d4d2f95>\u001b[0m in \u001b[0;36m<module>\u001b[0;34m()\u001b[0m\n\u001b[0;32m----> 1\u001b[0;31m \u001b[0mall_data\u001b[0m\u001b[0;34m\u001b[0m\u001b[0m\n\u001b[0m",
      "\u001b[0;31mNameError\u001b[0m: name 'all_data' is not defined"
     ]
    }
   ],
   "source": [
    "all_data"
   ]
  },
  {
   "cell_type": "markdown",
   "metadata": {},
   "source": [
    "## Visualizing chances/goals (on an average) by Spanish under 25 players, over the years"
   ]
  },
  {
   "cell_type": "code",
   "execution_count": null,
   "metadata": {
    "collapsed": true
   },
   "outputs": [],
   "source": []
  },
  {
   "cell_type": "markdown",
   "metadata": {},
   "source": [
    "References:\n",
    "1. https://fcpython.com/blog/introduction-scraping-data-transfermarkt\n",
    "2. https://www.digitalocean.com/community/tutorials/how-to-scrape-web-pages-with-beautiful-soup-and-python-3\n",
    "3. https://www.datascience.com/blog/learn-data-science-intro-to-data-visualization-in-matplotlib"
   ]
  },
  {
   "cell_type": "code",
   "execution_count": null,
   "metadata": {
    "collapsed": true
   },
   "outputs": [],
   "source": []
  }
 ],
 "metadata": {
  "kernelspec": {
   "display_name": "Python 3",
   "language": "python",
   "name": "python3"
  },
  "language_info": {
   "codemirror_mode": {
    "name": "ipython",
    "version": 3
   },
   "file_extension": ".py",
   "mimetype": "text/x-python",
   "name": "python",
   "nbconvert_exporter": "python",
   "pygments_lexer": "ipython3",
   "version": "3.6.1"
  }
 },
 "nbformat": 4,
 "nbformat_minor": 2
}
